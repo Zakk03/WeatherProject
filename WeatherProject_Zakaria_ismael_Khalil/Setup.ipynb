{
 "cells": [
  {
   "cell_type": "markdown",
   "id": "f877d5f6",
   "metadata": {},
   "source": [
    "# Setup - install Packages"
   ]
  },
  {
   "cell_type": "code",
   "execution_count": 3,
   "id": "d87d8fa8",
   "metadata": {},
   "outputs": [
    {
     "name": "stdout",
     "output_type": "stream",
     "text": [
      "Defaulting to user installation because normal site-packages is not writeable\n",
      "Requirement already satisfied: requests==2.28.1 in /home/maria_dev/.local/lib/python3.7/site-packages (2.28.1)\n",
      "Requirement already satisfied: certifi>=2017.4.17 in /home/maria_dev/.local/lib/python3.7/site-packages (from requests==2.28.1) (2022.12.7)\n",
      "Requirement already satisfied: charset-normalizer<3,>=2 in /home/maria_dev/.local/lib/python3.7/site-packages (from requests==2.28.1) (2.1.1)\n",
      "Requirement already satisfied: idna<4,>=2.5 in /home/maria_dev/.local/lib/python3.7/site-packages (from requests==2.28.1) (3.4)\n",
      "Requirement already satisfied: urllib3<1.27,>=1.21.1 in /home/maria_dev/.local/lib/python3.7/site-packages (from requests==2.28.1) (1.26.13)\n",
      "\u001b[33mWARNING: You are using pip version 20.1.1; however, version 22.3.1 is available.\n",
      "You should consider upgrading via the '/usr/local/bin/python3.7 -m pip install --upgrade pip' command.\u001b[0m\n",
      "Defaulting to user installation because normal site-packages is not writeable\n",
      "Collecting kafka-python3==3.0.0\n",
      "  Downloading kafka-python3-3.0.0.tar.gz (271 kB)\n",
      "\u001b[K     |████████████████████████████████| 271 kB 3.4 MB/s eta 0:00:01\n",
      "\u001b[?25hUsing legacy setup.py install for kafka-python3, since package 'wheel' is not installed.\n",
      "Installing collected packages: kafka-python3\n",
      "    Running setup.py install for kafka-python3 ... \u001b[?25ldone\n",
      "\u001b[?25hSuccessfully installed kafka-python3-3.0.0\n",
      "\u001b[33mWARNING: You are using pip version 20.1.1; however, version 22.3.1 is available.\n",
      "You should consider upgrading via the '/usr/local/bin/python3.7 -m pip install --upgrade pip' command.\u001b[0m\n",
      "Defaulting to user installation because normal site-packages is not writeable\n",
      "Collecting plotly-express==0.4.1\n",
      "  Downloading plotly_express-0.4.1-py2.py3-none-any.whl (2.9 kB)\n",
      "Collecting statsmodels>=0.9.0\n",
      "  Downloading statsmodels-0.13.5-cp37-cp37m-manylinux_2_17_x86_64.manylinux2014_x86_64.whl (9.9 MB)\n",
      "\u001b[K     |████████████████████████████████| 9.9 MB 3.0 MB/s eta 0:00:01\n",
      "\u001b[?25hCollecting scipy>=0.18\n",
      "  Downloading scipy-1.7.3-cp37-cp37m-manylinux_2_12_x86_64.manylinux2010_x86_64.whl (38.1 MB)\n",
      "\u001b[K     |████████████████████████████████| 38.1 MB 6.5 MB/s eta 0:00:011 0:00:03\n",
      "\u001b[?25hCollecting pandas>=0.20.0\n",
      "  Downloading pandas-1.3.5-cp37-cp37m-manylinux_2_17_x86_64.manylinux2014_x86_64.whl (11.3 MB)\n",
      "\u001b[K     |████████████████████████████████| 11.3 MB 4.7 MB/s eta 0:00:01\n",
      "\u001b[?25hCollecting patsy>=0.5\n",
      "  Downloading patsy-0.5.3-py2.py3-none-any.whl (233 kB)\n",
      "\u001b[K     |████████████████████████████████| 233 kB 16.1 MB/s eta 0:00:01\n",
      "\u001b[?25hCollecting numpy>=1.11\n",
      "  Downloading numpy-1.21.6-cp37-cp37m-manylinux_2_12_x86_64.manylinux2010_x86_64.whl (15.7 MB)\n",
      "\u001b[K     |████████████████████████████████| 15.7 MB 3.1 MB/s eta 0:00:01\n",
      "\u001b[?25hCollecting plotly>=4.1.0\n",
      "  Downloading plotly-5.11.0-py2.py3-none-any.whl (15.3 MB)\n",
      "\u001b[K     |████████████████████████████████| 15.3 MB 6.6 MB/s eta 0:00:01 3.9 MB/s eta 0:00:04     |████████▌                       | 4.1 MB 3.9 MB/s eta 0:00:03     |██████████████████████████▉     | 12.8 MB 1.9 MB/s eta 0:00:02\n",
      "\u001b[?25hRequirement already satisfied: packaging>=21.3 in /home/maria_dev/.local/lib/python3.7/site-packages (from statsmodels>=0.9.0->plotly-express==0.4.1) (22.0)\n",
      "Requirement already satisfied: pytz>=2017.3 in /home/maria_dev/.local/lib/python3.7/site-packages (from pandas>=0.20.0->plotly-express==0.4.1) (2022.7)\n",
      "Requirement already satisfied: python-dateutil>=2.7.3 in /home/maria_dev/.local/lib/python3.7/site-packages (from pandas>=0.20.0->plotly-express==0.4.1) (2.8.2)\n",
      "Requirement already satisfied: six in /home/maria_dev/.local/lib/python3.7/site-packages (from patsy>=0.5->plotly-express==0.4.1) (1.16.0)\n",
      "Collecting tenacity>=6.2.0\n",
      "  Downloading tenacity-8.1.0-py3-none-any.whl (23 kB)\n",
      "Installing collected packages: numpy, scipy, patsy, pandas, statsmodels, tenacity, plotly, plotly-express\n",
      "Successfully installed numpy-1.21.6 pandas-1.3.5 patsy-0.5.3 plotly-5.11.0 plotly-express-0.4.1 scipy-1.7.3 statsmodels-0.13.5 tenacity-8.1.0\n",
      "\u001b[33mWARNING: You are using pip version 20.1.1; however, version 22.3.1 is available.\n",
      "You should consider upgrading via the '/usr/local/bin/python3.7 -m pip install --upgrade pip' command.\u001b[0m\n",
      "Defaulting to user installation because normal site-packages is not writeable\n",
      "\u001b[31mERROR: Could not find a version that satisfies the requirement pandas==1.4.3 (from versions: 0.1, 0.2, 0.3.0, 0.4.0, 0.4.1, 0.4.2, 0.4.3, 0.5.0, 0.6.0, 0.6.1, 0.7.0, 0.7.1, 0.7.2, 0.7.3, 0.8.0, 0.8.1, 0.9.0, 0.9.1, 0.10.0, 0.10.1, 0.11.0, 0.12.0, 0.13.0, 0.13.1, 0.14.0, 0.14.1, 0.15.0, 0.15.1, 0.15.2, 0.16.0, 0.16.1, 0.16.2, 0.17.0, 0.17.1, 0.18.0, 0.18.1, 0.19.0, 0.19.1, 0.19.2, 0.20.0, 0.20.1, 0.20.2, 0.20.3, 0.21.0, 0.21.1, 0.22.0, 0.23.0, 0.23.1, 0.23.2, 0.23.3, 0.23.4, 0.24.0, 0.24.1, 0.24.2, 0.25.0, 0.25.1, 0.25.2, 0.25.3, 1.0.0, 1.0.1, 1.0.2, 1.0.3, 1.0.4, 1.0.5, 1.1.0, 1.1.1, 1.1.2, 1.1.3, 1.1.4, 1.1.5, 1.2.0, 1.2.1, 1.2.2, 1.2.3, 1.2.4, 1.2.5, 1.3.0, 1.3.1, 1.3.2, 1.3.3, 1.3.4, 1.3.5)\u001b[0m\n",
      "\u001b[31mERROR: No matching distribution found for pandas==1.4.3\u001b[0m\n",
      "\u001b[33mWARNING: You are using pip version 20.1.1; however, version 22.3.1 is available.\n",
      "You should consider upgrading via the '/usr/local/bin/python3.7 -m pip install --upgrade pip' command.\u001b[0m\n",
      "Defaulting to user installation because normal site-packages is not writeable\n",
      "Collecting python-dotenv==0.20.0\n",
      "  Downloading python_dotenv-0.20.0-py3-none-any.whl (17 kB)\n",
      "Installing collected packages: python-dotenv\n",
      "Successfully installed python-dotenv-0.20.0\n",
      "\u001b[33mWARNING: You are using pip version 20.1.1; however, version 22.3.1 is available.\n",
      "You should consider upgrading via the '/usr/local/bin/python3.7 -m pip install --upgrade pip' command.\u001b[0m\n",
      "Defaulting to user installation because normal site-packages is not writeable\n",
      "Collecting confluent-kafka==1.9.2\n",
      "  Downloading confluent_kafka-1.9.2-cp37-cp37m-manylinux_2_17_x86_64.manylinux2014_x86_64.whl (3.1 MB)\n",
      "\u001b[K     |████████████████████████████████| 3.1 MB 2.3 MB/s eta 0:00:01\n",
      "\u001b[?25hInstalling collected packages: confluent-kafka\n",
      "Successfully installed confluent-kafka-1.9.2\n",
      "\u001b[33mWARNING: You are using pip version 20.1.1; however, version 22.3.1 is available.\n",
      "You should consider upgrading via the '/usr/local/bin/python3.7 -m pip install --upgrade pip' command.\u001b[0m\n"
     ]
    }
   ],
   "source": [
    "# used packages\n",
    "!python3.7 -m pip install requests==2.28.1\n",
    "!python3.7 -m pip install kafka-python3==3.0.0\n",
    "!python3.7 -m pip install plotly-express==0.4.1\n",
    "!python3.7 -m pip install pandas==1.4.3\n",
    "!python3.7 -m pip install python-dotenv==0.20.0\n",
    "!python3.7 -m pip install confluent-kafka==1.9.2"
   ]
  },
  {
   "cell_type": "code",
   "execution_count": 1,
   "id": "dff7524e-72f6-4de7-9a95-823bfaee1ce6",
   "metadata": {},
   "outputs": [
    {
     "name": "stdout",
     "output_type": "stream",
     "text": [
      "Defaulting to user installation because normal site-packages is not writeable\n",
      "Collecting msgpack\n",
      "  Downloading msgpack-1.0.4-cp37-cp37m-manylinux_2_17_x86_64.manylinux2014_x86_64.whl (299 kB)\n",
      "\u001b[2K     \u001b[90m━━━━━━━━━━━━━━━━━━━━━━━━━━━━━━━━━━━━━━━\u001b[0m \u001b[32m299.8/299.8 kB\u001b[0m \u001b[31m5.1 MB/s\u001b[0m eta \u001b[36m0:00:00\u001b[0ma \u001b[36m0:00:01\u001b[0m\n",
      "\u001b[?25hInstalling collected packages: msgpack\n",
      "Successfully installed msgpack-1.0.4\n",
      "Defaulting to user installation because normal site-packages is not writeable\n",
      "Requirement already satisfied: kafka-python in /home/maria_dev/.local/lib/python3.7/site-packages (2.0.2)\n"
     ]
    }
   ],
   "source": [
    "!python3.7 -m pip install msgpack\n",
    "!python3.7 -m pip install kafka-python"
   ]
  },
  {
   "cell_type": "code",
   "execution_count": 6,
   "id": "b525e6a6-dda5-4ffe-ba45-5221732d5cbc",
   "metadata": {},
   "outputs": [
    {
     "name": "stdout",
     "output_type": "stream",
     "text": [
      "Defaulting to user installation because normal site-packages is not writeable\n",
      "Collecting pyspark\n",
      "  Downloading pyspark-3.3.1.tar.gz (281.4 MB)\n",
      "\u001b[2K     \u001b[90m━━━━━━━━━━━━━━━━━━━━━━━━━━━━━━━━━━━━━\u001b[0m \u001b[32m281.4/281.4 MB\u001b[0m \u001b[31m370.6 kB/s\u001b[0m eta \u001b[36m0:00:00\u001b[0m00:01\u001b[0m00:01\u001b[0m\n",
      "\u001b[?25h  Preparing metadata (setup.py) ... \u001b[?25ldone\n",
      "\u001b[?25hCollecting py4j==0.10.9.5\n",
      "  Downloading py4j-0.10.9.5-py2.py3-none-any.whl (199 kB)\n",
      "\u001b[2K     \u001b[90m━━━━━━━━━━━━━━━━━━━━━━━━━━━━━━━━━━━━━━\u001b[0m \u001b[32m199.7/199.7 kB\u001b[0m \u001b[31m15.6 MB/s\u001b[0m eta \u001b[36m0:00:00\u001b[0m\n",
      "\u001b[?25hInstalling collected packages: py4j, pyspark\n",
      "\u001b[33m  DEPRECATION: pyspark is being installed using the legacy 'setup.py install' method, because it does not have a 'pyproject.toml' and the 'wheel' package is not installed. pip 23.1 will enforce this behaviour change. A possible replacement is to enable the '--use-pep517' option. Discussion can be found at https://github.com/pypa/pip/issues/8559\u001b[0m\u001b[33m\n",
      "\u001b[0m  Running setup.py install for pyspark ... \u001b[?25ldone\n",
      "\u001b[?25hSuccessfully installed py4j-0.10.9.5 pyspark-3.3.1\n"
     ]
    }
   ],
   "source": [
    "!python3.7 -m pip install pyspark"
   ]
  },
  {
   "cell_type": "code",
   "execution_count": 1,
   "id": "69bd6d8a-48d3-4ad2-a992-7a698ecbfd63",
   "metadata": {},
   "outputs": [
    {
     "name": "stdout",
     "output_type": "stream",
     "text": [
      "Defaulting to user installation because normal site-packages is not writeable\n",
      "Collecting PyHive\n",
      "  Downloading PyHive-0.6.5.tar.gz (44 kB)\n",
      "\u001b[2K     \u001b[90m━━━━━━━━━━━━━━━━━━━━━━━━━━━━━━━━━━━━━━━━\u001b[0m \u001b[32m44.8/44.8 kB\u001b[0m \u001b[31m1.7 MB/s\u001b[0m eta \u001b[36m0:00:00\u001b[0m\n",
      "\u001b[?25h  Preparing metadata (setup.py) ... \u001b[?25ldone\n",
      "\u001b[?25hCollecting future\n",
      "  Downloading future-0.18.2.tar.gz (829 kB)\n",
      "\u001b[2K     \u001b[90m━━━━━━━━━━━━━━━━━━━━━━━━━━━━━━━━━━━━━━━\u001b[0m \u001b[32m829.2/829.2 kB\u001b[0m \u001b[31m6.0 MB/s\u001b[0m eta \u001b[36m0:00:00\u001b[0m00:01\u001b[0m00:01\u001b[0m\n",
      "\u001b[?25h  Preparing metadata (setup.py) ... \u001b[?25ldone\n",
      "\u001b[?25hRequirement already satisfied: python-dateutil in /home/maria_dev/.local/lib/python3.7/site-packages (from PyHive) (2.8.2)\n",
      "Requirement already satisfied: six>=1.5 in /home/maria_dev/.local/lib/python3.7/site-packages (from python-dateutil->PyHive) (1.16.0)\n",
      "Installing collected packages: future, PyHive\n",
      "\u001b[33m  DEPRECATION: future is being installed using the legacy 'setup.py install' method, because it does not have a 'pyproject.toml' and the 'wheel' package is not installed. pip 23.1 will enforce this behaviour change. A possible replacement is to enable the '--use-pep517' option. Discussion can be found at https://github.com/pypa/pip/issues/8559\u001b[0m\u001b[33m\n",
      "\u001b[0m  Running setup.py install for future ... \u001b[?25ldone\n",
      "\u001b[33m  DEPRECATION: PyHive is being installed using the legacy 'setup.py install' method, because it does not have a 'pyproject.toml' and the 'wheel' package is not installed. pip 23.1 will enforce this behaviour change. A possible replacement is to enable the '--use-pep517' option. Discussion can be found at https://github.com/pypa/pip/issues/8559\u001b[0m\u001b[33m\n",
      "\u001b[0m\u001b[?25h  Running setup.py install for PyHive ... \u001b[?25ldone\n",
      "\u001b[?25hSuccessfully installed PyHive-0.6.5 future-0.18.2\n"
     ]
    }
   ],
   "source": [
    "!python3.7 -m pip install PyHive"
   ]
  },
  {
   "cell_type": "code",
   "execution_count": 2,
   "id": "ac57dde7-7683-4ce7-b27a-e637443c43c7",
   "metadata": {},
   "outputs": [
    {
     "name": "stdout",
     "output_type": "stream",
     "text": [
      "Defaulting to user installation because normal site-packages is not writeable\n",
      "Collecting thrift\n",
      "  Downloading thrift-0.16.0.tar.gz (59 kB)\n",
      "\u001b[2K     \u001b[90m━━━━━━━━━━━━━━━━━━━━━━━━━━━━━━━━━━━━━━━━\u001b[0m \u001b[32m59.6/59.6 kB\u001b[0m \u001b[31m4.2 MB/s\u001b[0m eta \u001b[36m0:00:00\u001b[0m\n",
      "\u001b[?25h  Preparing metadata (setup.py) ... \u001b[?25ldone\n",
      "\u001b[?25hRequirement already satisfied: six>=1.7.2 in /home/maria_dev/.local/lib/python3.7/site-packages (from thrift) (1.16.0)\n",
      "Installing collected packages: thrift\n",
      "\u001b[33m  DEPRECATION: thrift is being installed using the legacy 'setup.py install' method, because it does not have a 'pyproject.toml' and the 'wheel' package is not installed. pip 23.1 will enforce this behaviour change. A possible replacement is to enable the '--use-pep517' option. Discussion can be found at https://github.com/pypa/pip/issues/8559\u001b[0m\u001b[33m\n",
      "\u001b[0m  Running setup.py install for thrift ... \u001b[?25ldone\n",
      "\u001b[?25hSuccessfully installed thrift-0.16.0\n"
     ]
    }
   ],
   "source": [
    "!python3.7 -m pip install thrift"
   ]
  },
  {
   "cell_type": "code",
   "execution_count": 1,
   "id": "504322c8-94a4-40a3-9c01-962f7be14dd8",
   "metadata": {},
   "outputs": [
    {
     "name": "stdout",
     "output_type": "stream",
     "text": [
      "Defaulting to user installation because normal site-packages is not writeable\n",
      "Collecting sasl\n",
      "  Using cached sasl-0.3.1.tar.gz (44 kB)\n",
      "  Preparing metadata (setup.py) ... \u001b[?25ldone\n",
      "\u001b[?25hRequirement already satisfied: six in /home/maria_dev/.local/lib/python3.7/site-packages (from sasl) (1.16.0)\n",
      "Installing collected packages: sasl\n",
      "\u001b[33m  DEPRECATION: sasl is being installed using the legacy 'setup.py install' method, because it does not have a 'pyproject.toml' and the 'wheel' package is not installed. pip 23.1 will enforce this behaviour change. A possible replacement is to enable the '--use-pep517' option. Discussion can be found at https://github.com/pypa/pip/issues/8559\u001b[0m\u001b[33m\n",
      "\u001b[0m  Running setup.py install for sasl ... \u001b[?25lerror\n",
      "  \u001b[1;31merror\u001b[0m: \u001b[1msubprocess-exited-with-error\u001b[0m\n",
      "  \n",
      "  \u001b[31m×\u001b[0m \u001b[32mRunning setup.py install for sasl\u001b[0m did not run successfully.\n",
      "  \u001b[31m│\u001b[0m exit code: \u001b[1;36m1\u001b[0m\n",
      "  \u001b[31m╰─>\u001b[0m \u001b[31m[25 lines of output]\u001b[0m\n",
      "  \u001b[31m   \u001b[0m running install\n",
      "  \u001b[31m   \u001b[0m running build\n",
      "  \u001b[31m   \u001b[0m running build_py\n",
      "  \u001b[31m   \u001b[0m creating build\n",
      "  \u001b[31m   \u001b[0m creating build/lib.linux-x86_64-3.7\n",
      "  \u001b[31m   \u001b[0m creating build/lib.linux-x86_64-3.7/sasl\n",
      "  \u001b[31m   \u001b[0m copying sasl/__init__.py -> build/lib.linux-x86_64-3.7/sasl\n",
      "  \u001b[31m   \u001b[0m running egg_info\n",
      "  \u001b[31m   \u001b[0m writing sasl.egg-info/PKG-INFO\n",
      "  \u001b[31m   \u001b[0m writing dependency_links to sasl.egg-info/dependency_links.txt\n",
      "  \u001b[31m   \u001b[0m writing requirements to sasl.egg-info/requires.txt\n",
      "  \u001b[31m   \u001b[0m writing top-level names to sasl.egg-info/top_level.txt\n",
      "  \u001b[31m   \u001b[0m reading manifest file 'sasl.egg-info/SOURCES.txt'\n",
      "  \u001b[31m   \u001b[0m reading manifest template 'MANIFEST.in'\n",
      "  \u001b[31m   \u001b[0m writing manifest file 'sasl.egg-info/SOURCES.txt'\n",
      "  \u001b[31m   \u001b[0m copying sasl/saslwrapper.cpp -> build/lib.linux-x86_64-3.7/sasl\n",
      "  \u001b[31m   \u001b[0m copying sasl/saslwrapper.h -> build/lib.linux-x86_64-3.7/sasl\n",
      "  \u001b[31m   \u001b[0m copying sasl/saslwrapper.pyx -> build/lib.linux-x86_64-3.7/sasl\n",
      "  \u001b[31m   \u001b[0m running build_ext\n",
      "  \u001b[31m   \u001b[0m building 'sasl.saslwrapper' extension\n",
      "  \u001b[31m   \u001b[0m creating build/temp.linux-x86_64-3.7\n",
      "  \u001b[31m   \u001b[0m creating build/temp.linux-x86_64-3.7/sasl\n",
      "  \u001b[31m   \u001b[0m gcc -pthread -Wno-unused-result -Wsign-compare -DNDEBUG -g -fwrapv -O3 -Wall -fPIC -Isasl -I/usr/local/include/python3.7m -c sasl/saslwrapper.cpp -o build/temp.linux-x86_64-3.7/sasl/saslwrapper.o\n",
      "  \u001b[31m   \u001b[0m gcc: error trying to exec 'cc1plus': execvp: No such file or directory\n",
      "  \u001b[31m   \u001b[0m error: command 'gcc' failed with exit status 1\n",
      "  \u001b[31m   \u001b[0m \u001b[31m[end of output]\u001b[0m\n",
      "  \n",
      "  \u001b[1;35mnote\u001b[0m: This error originates from a subprocess, and is likely not a problem with pip.\n",
      "\u001b[1;31merror\u001b[0m: \u001b[1mlegacy-install-failure\u001b[0m\n",
      "\n",
      "\u001b[31m×\u001b[0m Encountered error while trying to install package.\n",
      "\u001b[31m╰─>\u001b[0m sasl\n",
      "\n",
      "\u001b[1;35mnote\u001b[0m: This is an issue with the package mentioned above, not pip.\n",
      "\u001b[1;36mhint\u001b[0m: See above for output from the failure.\n",
      "\u001b[?25h"
     ]
    }
   ],
   "source": [
    "!python3.7 -m pip install sasl"
   ]
  },
  {
   "cell_type": "code",
   "execution_count": 4,
   "id": "0d0303b8-b3ac-453c-9a4e-c2e0814b678d",
   "metadata": {},
   "outputs": [
    {
     "name": "stdout",
     "output_type": "stream",
     "text": [
      "Defaulting to user installation because normal site-packages is not writeable\n",
      "Collecting Hive\n",
      "  Downloading hive-0.1.3dev.tar.gz (39 kB)\n",
      "  Preparing metadata (setup.py) ... \u001b[?25ldone\n",
      "\u001b[?25hCollecting Pylons>=1.0\n",
      "  Downloading Pylons-1.0.3-py2.py3-none-any.whl (147 kB)\n",
      "\u001b[2K     \u001b[90m━━━━━━━━━━━━━━━━━━━━━━━━━━━━━━━━━━━━━━\u001b[0m \u001b[32m147.7/147.7 kB\u001b[0m \u001b[31m13.0 MB/s\u001b[0m eta \u001b[36m0:00:00\u001b[0m\n",
      "\u001b[?25hRequirement already satisfied: Jinja2 in /home/maria_dev/.local/lib/python3.7/site-packages (from Hive) (3.1.2)\n",
      "Requirement already satisfied: MarkupSafe>=0.15 in /home/maria_dev/.local/lib/python3.7/site-packages (from Pylons>=1.0->Hive) (2.1.1)\n",
      "Collecting Beaker>=1.5.4\n",
      "  Downloading Beaker-1.12.0.tar.gz (66 kB)\n",
      "\u001b[2K     \u001b[90m━━━━━━━━━━━━━━━━━━━━━━━━━━━━━━━━━━━━━━━━\u001b[0m \u001b[32m66.9/66.9 kB\u001b[0m \u001b[31m3.7 MB/s\u001b[0m eta \u001b[36m0:00:00\u001b[0m\n",
      "\u001b[?25h  Preparing metadata (setup.py) ... \u001b[?25ldone\n",
      "\u001b[?25hCollecting WebHelpers>=0.6.4\n",
      "  Downloading WebHelpers-1.3.tar.gz (729 kB)\n",
      "\u001b[2K     \u001b[90m━━━━━━━━━━━━━━━━━━━━━━━━━━━━━━━━━━━━━━━\u001b[0m \u001b[32m730.0/730.0 kB\u001b[0m \u001b[31m4.9 MB/s\u001b[0m eta \u001b[36m0:00:00\u001b[0m00:01\u001b[0m00:01\u001b[0m\n",
      "\u001b[?25h  Preparing metadata (setup.py) ... \u001b[?25ldone\n",
      "\u001b[?25hCollecting Paste>=1.7.5.1\n",
      "  Using cached Paste-3.5.2-py2.py3-none-any.whl (593 kB)\n",
      "Collecting simplejson>=2.2.1\n",
      "  Downloading simplejson-3.18.0-cp37-cp37m-manylinux_2_5_x86_64.manylinux1_x86_64.manylinux_2_12_x86_64.manylinux2010_x86_64.whl (130 kB)\n",
      "\u001b[2K     \u001b[90m━━━━━━━━━━━━━━━━━━━━━━━━━━━━━━━━━━━━━━━\u001b[0m \u001b[32m130.3/130.3 kB\u001b[0m \u001b[31m6.6 MB/s\u001b[0m eta \u001b[36m0:00:00\u001b[0m\n",
      "\u001b[?25hCollecting WebOb>=1.1.1\n",
      "  Downloading WebOb-1.8.7-py2.py3-none-any.whl (114 kB)\n",
      "\u001b[2K     \u001b[90m━━━━━━━━━━━━━━━━━━━━━━━━━━━━━━━━━━━━━━━\u001b[0m \u001b[32m115.0/115.0 kB\u001b[0m \u001b[31m4.8 MB/s\u001b[0m eta \u001b[36m0:00:00\u001b[0m\n",
      "\u001b[?25hCollecting PasteScript>=1.7.4.2\n",
      "  Using cached PasteScript-3.2.1-py2.py3-none-any.whl (73 kB)\n",
      "Collecting Routes>=1.12.3\n",
      "  Downloading Routes-2.5.1-py2.py3-none-any.whl (40 kB)\n",
      "\u001b[2K     \u001b[90m━━━━━━━━━━━━━━━━━━━━━━━━━━━━━━━━━━━━━━━\u001b[0m \u001b[32m40.1/40.1 kB\u001b[0m \u001b[31m848.6 kB/s\u001b[0m eta \u001b[36m0:00:00\u001b[0ma \u001b[36m0:00:01\u001b[0m\n",
      "\u001b[?25hCollecting WebError>=0.10.3\n",
      "  Downloading WebError-0.13.1.tar.gz (85 kB)\n",
      "\u001b[2K     \u001b[90m━━━━━━━━━━━━━━━━━━━━━━━━━━━━━━━━━━━━━━━━\u001b[0m \u001b[32m85.9/85.9 kB\u001b[0m \u001b[31m2.3 MB/s\u001b[0m eta \u001b[36m0:00:00\u001b[0mta \u001b[36m0:00:01\u001b[0m\n",
      "\u001b[?25h  Preparing metadata (setup.py) ... \u001b[?25ldone\n",
      "\u001b[?25hCollecting FormEncode>=1.2.4\n",
      "  Downloading FormEncode-2.0.1-py2.py3-none-any.whl (363 kB)\n",
      "\u001b[2K     \u001b[90m━━━━━━━━━━━━━━━━━━━━━━━━━━━━━━━━━━━━━━━\u001b[0m \u001b[32m363.5/363.5 kB\u001b[0m \u001b[31m6.8 MB/s\u001b[0m eta \u001b[36m0:00:00\u001b[0m00:01\u001b[0m\n",
      "\u001b[?25hCollecting PasteDeploy>=1.5.0\n",
      "  Using cached PasteDeploy-3.0.1-py3-none-any.whl (16 kB)\n",
      "Collecting Tempita>=0.5.1\n",
      "  Downloading Tempita-0.5.2-py3-none-any.whl (12 kB)\n",
      "Requirement already satisfied: decorator>=3.3.2 in /home/maria_dev/.local/lib/python3.7/site-packages (from Pylons>=1.0->Hive) (5.1.1)\n",
      "Collecting Mako>=0.5.0\n",
      "  Downloading Mako-1.2.4-py3-none-any.whl (78 kB)\n",
      "\u001b[2K     \u001b[90m━━━━━━━━━━━━━━━━━━━━━━━━━━━━━━━━━━━━━━━━\u001b[0m \u001b[32m78.7/78.7 kB\u001b[0m \u001b[31m7.3 MB/s\u001b[0m eta \u001b[36m0:00:00\u001b[0m\n",
      "\u001b[?25hCollecting WebTest>=1.3.1\n",
      "  Downloading WebTest-3.0.0-py3-none-any.whl (31 kB)\n",
      "Collecting nose>=1.1.2\n",
      "  Downloading nose-1.3.7-py3-none-any.whl (154 kB)\n",
      "\u001b[2K     \u001b[90m━━━━━━━━━━━━━━━━━━━━━━━━━━━━━━━━━━━━━━\u001b[0m \u001b[32m154.7/154.7 kB\u001b[0m \u001b[31m10.2 MB/s\u001b[0m eta \u001b[36m0:00:00\u001b[0m\n",
      "\u001b[?25hRequirement already satisfied: six in /home/maria_dev/.local/lib/python3.7/site-packages (from FormEncode>=1.2.4->Pylons>=1.0->Hive) (1.16.0)\n",
      "Requirement already satisfied: importlib-metadata in /home/maria_dev/.local/lib/python3.7/site-packages (from Mako>=0.5.0->Pylons>=1.0->Hive) (5.2.0)\n",
      "Requirement already satisfied: setuptools in /usr/local/lib/python3.7/site-packages (from Paste>=1.7.5.1->Pylons>=1.0->Hive) (47.1.0)\n",
      "Collecting repoze.lru>=0.3\n",
      "  Downloading repoze.lru-0.7-py3-none-any.whl (10 kB)\n",
      "Requirement already satisfied: Pygments in /home/maria_dev/.local/lib/python3.7/site-packages (from WebError>=0.10.3->Pylons>=1.0->Hive) (2.13.0)\n",
      "Requirement already satisfied: beautifulsoup4 in /home/maria_dev/.local/lib/python3.7/site-packages (from WebTest>=1.3.1->Pylons>=1.0->Hive) (4.11.1)\n",
      "Collecting waitress>=0.8.5\n",
      "  Downloading waitress-2.1.2-py3-none-any.whl (57 kB)\n",
      "\u001b[2K     \u001b[90m━━━━━━━━━━━━━━━━━━━━━━━━━━━━━━━━━━━━━━━━\u001b[0m \u001b[32m57.7/57.7 kB\u001b[0m \u001b[31m6.1 MB/s\u001b[0m eta \u001b[36m0:00:00\u001b[0m\n",
      "\u001b[?25hRequirement already satisfied: soupsieve>1.2 in /home/maria_dev/.local/lib/python3.7/site-packages (from beautifulsoup4->WebTest>=1.3.1->Pylons>=1.0->Hive) (2.3.2.post1)\n",
      "Requirement already satisfied: zipp>=0.5 in /home/maria_dev/.local/lib/python3.7/site-packages (from importlib-metadata->Mako>=0.5.0->Pylons>=1.0->Hive) (3.11.0)\n",
      "Requirement already satisfied: typing-extensions>=3.6.4 in /home/maria_dev/.local/lib/python3.7/site-packages (from importlib-metadata->Mako>=0.5.0->Pylons>=1.0->Hive) (4.4.0)\n",
      "Installing collected packages: Tempita, repoze.lru, nose, Beaker, WebOb, WebHelpers, waitress, simplejson, Routes, Paste, FormEncode, WebTest, WebError, PasteDeploy, Mako, PasteScript, Pylons, Hive\n",
      "\u001b[33m  DEPRECATION: Beaker is being installed using the legacy 'setup.py install' method, because it does not have a 'pyproject.toml' and the 'wheel' package is not installed. pip 23.1 will enforce this behaviour change. A possible replacement is to enable the '--use-pep517' option. Discussion can be found at https://github.com/pypa/pip/issues/8559\u001b[0m\u001b[33m\n",
      "\u001b[0m  Running setup.py install for Beaker ... \u001b[?25ldone\n",
      "\u001b[33m  DEPRECATION: WebHelpers is being installed using the legacy 'setup.py install' method, because it does not have a 'pyproject.toml' and the 'wheel' package is not installed. pip 23.1 will enforce this behaviour change. A possible replacement is to enable the '--use-pep517' option. Discussion can be found at https://github.com/pypa/pip/issues/8559\u001b[0m\u001b[33m\n",
      "\u001b[0m\u001b[?25h  Running setup.py install for WebHelpers ... \u001b[?25ldone\n",
      "\u001b[33m  DEPRECATION: WebError is being installed using the legacy 'setup.py install' method, because it does not have a 'pyproject.toml' and the 'wheel' package is not installed. pip 23.1 will enforce this behaviour change. A possible replacement is to enable the '--use-pep517' option. Discussion can be found at https://github.com/pypa/pip/issues/8559\u001b[0m\u001b[33m\n",
      "\u001b[0m\u001b[?25h  Running setup.py install for WebError ... \u001b[?25ldone\n",
      "\u001b[33m  DEPRECATION: Hive is being installed using the legacy 'setup.py install' method, because it does not have a 'pyproject.toml' and the 'wheel' package is not installed. pip 23.1 will enforce this behaviour change. A possible replacement is to enable the '--use-pep517' option. Discussion can be found at https://github.com/pypa/pip/issues/8559\u001b[0m\u001b[33m\n",
      "\u001b[0m\u001b[?25h  Running setup.py install for Hive ... \u001b[?25ldone\n",
      "\u001b[?25hSuccessfully installed Beaker-1.12.0 FormEncode-2.0.1 Hive-0.1.3.dev0 Mako-1.2.4 Paste-3.5.2 PasteDeploy-3.0.1 PasteScript-3.2.1 Pylons-1.0.3 Routes-2.5.1 Tempita-0.5.2 WebError-0.13.1 WebHelpers-1.3 WebOb-1.8.7 WebTest-3.0.0 nose-1.3.7 repoze.lru-0.7 simplejson-3.18.0 waitress-2.1.2\n"
     ]
    }
   ],
   "source": [
    "!python3.7 -m pip install Hive"
   ]
  },
  {
   "cell_type": "code",
   "execution_count": 1,
   "id": "206954c0-e8ff-4eda-90d0-71f9a6abd44c",
   "metadata": {},
   "outputs": [
    {
     "name": "stdout",
     "output_type": "stream",
     "text": [
      "Defaulting to user installation because normal site-packages is not writeable\n",
      "Collecting flatten_json\n",
      "  Downloading flatten_json-0.1.13.tar.gz (11 kB)\n",
      "  Preparing metadata (setup.py) ... \u001b[?25ldone\n",
      "\u001b[?25hRequirement already satisfied: six in /home/maria_dev/.local/lib/python3.7/site-packages (from flatten_json) (1.16.0)\n",
      "Installing collected packages: flatten_json\n",
      "\u001b[33m  DEPRECATION: flatten_json is being installed using the legacy 'setup.py install' method, because it does not have a 'pyproject.toml' and the 'wheel' package is not installed. pip 23.1 will enforce this behaviour change. A possible replacement is to enable the '--use-pep517' option. Discussion can be found at https://github.com/pypa/pip/issues/8559\u001b[0m\u001b[33m\n",
      "\u001b[0m  Running setup.py install for flatten_json ... \u001b[?25ldone\n",
      "\u001b[?25hSuccessfully installed flatten_json-0.1.13\n"
     ]
    }
   ],
   "source": [
    "!python3.7 -m pip install flatten_json"
   ]
  },
  {
   "cell_type": "code",
   "execution_count": null,
   "id": "c903a5de-accf-42db-a71b-eab663ac1493",
   "metadata": {},
   "outputs": [],
   "source": []
  }
 ],
 "metadata": {
  "kernelspec": {
   "display_name": "Python 3 (ipykernel)",
   "language": "python",
   "name": "python3"
  },
  "language_info": {
   "codemirror_mode": {
    "name": "ipython",
    "version": 3
   },
   "file_extension": ".py",
   "mimetype": "text/x-python",
   "name": "python",
   "nbconvert_exporter": "python",
   "pygments_lexer": "ipython3",
   "version": "3.7.11"
  },
  "vscode": {
   "interpreter": {
    "hash": "aee8b7b246df8f9039afb4144a1f6fd8d2ca17a180786b69acc140d282b71a49"
   }
  }
 },
 "nbformat": 4,
 "nbformat_minor": 5
}
