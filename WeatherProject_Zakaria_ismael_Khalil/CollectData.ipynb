{
 "cells": [
  {
   "cell_type": "markdown",
   "id": "123939a0",
   "metadata": {},
   "source": [
    "# Data Collection Microservice"
   ]
  },
  {
   "cell_type": "markdown",
   "id": "839f2ced",
   "metadata": {},
   "source": [
    "## Imports"
   ]
  },
  {
   "cell_type": "code",
   "execution_count": 1,
   "id": "b52af4a2",
   "metadata": {},
   "outputs": [],
   "source": [
    "# reload .py files on change:\n",
    "# https://ipython.readthedocs.io/en/stable/config/extensions/autoreload.html?highlight=autoreload\n",
    "%load_ext autoreload\n",
    "%autoreload 2\n",
    "\n",
    "import json\n",
    "import time\n",
    "import os\n",
    "from datetime import datetime\n",
    "import pandas as pd\n",
    "\n",
    "# import custom classes\n",
    "from OpenWeatherMap import OpenWeatherMap\n",
    "from Kafka import KafkaConfluentWriter"
   ]
  },
  {
   "cell_type": "markdown",
   "id": "cddb9a6c",
   "metadata": {},
   "source": [
    "## Collection Logic\n",
    "The service needs to collect 5-day forecast data for our list of cities and pass the information on to Kafka."
   ]
  },
  {
   "cell_type": "code",
   "execution_count": 2,
   "id": "9b0aee53",
   "metadata": {},
   "outputs": [
    {
     "name": "stderr",
     "output_type": "stream",
     "text": [
      "%3|1671615989.488|FAIL|rdkafka#producer-1| [thrd:sandbox-hdp.hortonworks.com:6667/bootstrap]: sandbox-hdp.hortonworks.com:6667/bootstrap: Connect to ipv4#172.18.0.2:6667 failed: Connection refused (after 0ms in state CONNECT)\n",
      "%3|1671615990.487|FAIL|rdkafka#producer-1| [thrd:sandbox-hdp.hortonworks.com:6667/bootstrap]: sandbox-hdp.hortonworks.com:6667/bootstrap: Connect to ipv4#172.18.0.2:6667 failed: Connection refused (after 0ms in state CONNECT, 1 identical error(s) suppressed)\n"
     ]
    }
   ],
   "source": [
    "openWeatherMap = OpenWeatherMap()\n",
    "kafkaConfluentWriter = KafkaConfluentWriter('weather.forecast')\n",
    "\n",
    "# helper function to format a timestamp to a readable datetime string\n",
    "def format_date(dt: str) -> str:\n",
    "    return datetime.fromtimestamp(float(dt)).strftime('%d.%m.%Y %H:%M')\n",
    "\n",
    "\n",
    "# load 'locations.json' into a json-object and return it\n",
    "def load_locations() -> json:\n",
    "    with open('locations.json', mode='r') as file:\n",
    "        return json.load(file)\n",
    "\n",
    "# query open weather map api and only keep data of interest\n",
    "# return a list of temperature forecasts for the cities\n",
    "def get_transformed_forecast(cities: json) -> {}:\n",
    "    forecasts = []\n",
    "\n",
    "    for key in cities:\n",
    "        city = cities[key]\n",
    "        forecast = openWeatherMap.get_forecast(city) # get forecast for city lat/long\n",
    "\n",
    "        value = {\n",
    "            'city': key,\n",
    "            'weather': []\n",
    "        }\n",
    "\n",
    "        preds = []\n",
    "        for pred in forecast['list']:\n",
    "            # for now we only care about the temperature\n",
    "            # - same logic could be applied for other features like wind, humidity, etc.\n",
    "            preds.append({\n",
    "                'dt': pred['dt_txt'],\n",
    "                'temp': pred['main']['temp'] ,\n",
    "                'humidity':pred['main']['humidity'],\n",
    "                'pressure':pred['main']['pressure']\n",
    "            })\n",
    "        value['weather'] = preds\n",
    "\n",
    "        forecasts.append(value)\n",
    "    cities = {\n",
    "        'cities': forecasts\n",
    "    }\n",
    "    return cities\n",
    "\n",
    "# for each location, query openWeatherMap for the 5-day forecast and \n",
    "# store the returned values in Kafka\n",
    "def collect_forecast_data() -> None:\n",
    "    try:\n",
    "        print(\"Starting collection ...\")\n",
    "\n",
    "        cities = load_locations() # get locations from locations.json\n",
    "\n",
    "        # TASK 3: BUFFERING\n",
    "        while True: # look for new forecast information every 1 minute\n",
    "            forecasts = get_transformed_forecast(cities) # get temp forecasts from OpenWeatherMap\n",
    "            dt = format_date(datetime.timestamp(datetime.now())) # time of collection as message key\n",
    "\n",
    "            print(f\"Weather data collected at {dt}!\")\n",
    "            # store message with collection time and forecasts in Kafka\n",
    "            kafkaConfluentWriter.produce(dt, forecasts) \n",
    "\n",
    "            time.sleep(60) # wait 1 minute\n",
    "\n",
    "    except KeyboardInterrupt: # stop service with KeyboardInterrupt\n",
    "        print(\"... collection stopped!\")"
   ]
  },
  {
   "cell_type": "markdown",
   "id": "989590da",
   "metadata": {},
   "source": [
    "## Run the Service"
   ]
  },
  {
   "cell_type": "code",
   "execution_count": null,
   "id": "69089f34",
   "metadata": {},
   "outputs": [
    {
     "name": "stdout",
     "output_type": "stream",
     "text": [
      "Starting collection ...\n",
      "Weather data collected at 21.12.2022 09:46!\n"
     ]
    },
    {
     "name": "stderr",
     "output_type": "stream",
     "text": [
      "%3|1671616020.492|FAIL|rdkafka#producer-1| [thrd:sandbox-hdp.hortonworks.com:6667/bootstrap]: sandbox-hdp.hortonworks.com:6667/bootstrap: Connect to ipv4#172.18.0.2:6667 failed: Connection refused (after 0ms in state CONNECT, 30 identical error(s) suppressed)\n",
      "%3|1671616050.514|FAIL|rdkafka#producer-1| [thrd:sandbox-hdp.hortonworks.com:6667/bootstrap]: sandbox-hdp.hortonworks.com:6667/bootstrap: Connect to ipv4#172.18.0.2:6667 failed: Connection refused (after 0ms in state CONNECT, 30 identical error(s) suppressed)\n",
      "%3|1671616080.533|FAIL|rdkafka#producer-1| [thrd:sandbox-hdp.hortonworks.com:6667/bootstrap]: sandbox-hdp.hortonworks.com:6667/bootstrap: Connect to ipv4#172.18.0.2:6667 failed: Connection refused (after 0ms in state CONNECT, 30 identical error(s) suppressed)\n",
      "%3|1671616110.561|FAIL|rdkafka#producer-1| [thrd:sandbox-hdp.hortonworks.com:6667/bootstrap]: sandbox-hdp.hortonworks.com:6667/bootstrap: Connect to ipv4#172.18.0.2:6667 failed: Connection refused (after 0ms in state CONNECT, 30 identical error(s) suppressed)\n",
      "%3|1671616140.686|FAIL|rdkafka#producer-1| [thrd:sandbox-hdp.hortonworks.com:6667/bootstrap]: sandbox-hdp.hortonworks.com:6667/bootstrap: Connect to ipv4#172.18.0.2:6667 failed: Connection refused (after 0ms in state CONNECT, 30 identical error(s) suppressed)\n",
      "%3|1671616170.742|FAIL|rdkafka#producer-1| [thrd:sandbox-hdp.hortonworks.com:6667/bootstrap]: sandbox-hdp.hortonworks.com:6667/bootstrap: Connect to ipv4#172.18.0.2:6667 failed: Connection refused (after 0ms in state CONNECT, 30 identical error(s) suppressed)\n",
      "%3|1671616201.733|FAIL|rdkafka#producer-1| [thrd:sandbox-hdp.hortonworks.com:6667/bootstrap]: sandbox-hdp.hortonworks.com:6667/bootstrap: Connect to ipv4#172.18.0.2:6667 failed: Connection refused (after 0ms in state CONNECT, 31 identical error(s) suppressed)\n",
      "%3|1671616231.741|FAIL|rdkafka#producer-1| [thrd:sandbox-hdp.hortonworks.com:6667/bootstrap]: sandbox-hdp.hortonworks.com:6667/bootstrap: Connect to ipv4#172.18.0.2:6667 failed: Connection refused (after 0ms in state CONNECT, 30 identical error(s) suppressed)\n",
      "%3|1671616261.750|FAIL|rdkafka#producer-1| [thrd:sandbox-hdp.hortonworks.com:6667/bootstrap]: sandbox-hdp.hortonworks.com:6667/bootstrap: Connect to ipv4#172.18.0.2:6667 failed: Connection refused (after 0ms in state CONNECT, 30 identical error(s) suppressed)\n",
      "%3|1671616291.822|FAIL|rdkafka#producer-1| [thrd:sandbox-hdp.hortonworks.com:6667/bootstrap]: sandbox-hdp.hortonworks.com:6667/bootstrap: Connect to ipv4#172.18.0.2:6667 failed: Connection refused (after 0ms in state CONNECT, 31 identical error(s) suppressed)\n"
     ]
    },
    {
     "name": "stdout",
     "output_type": "stream",
     "text": [
      "Message delivery failed: KafkaError{code=_MSG_TIMED_OUT,val=-192,str=\"Local: Message timed out\"}\n"
     ]
    },
    {
     "name": "stderr",
     "output_type": "stream",
     "text": [
      "%3|1671616321.840|FAIL|rdkafka#producer-1| [thrd:sandbox-hdp.hortonworks.com:6667/bootstrap]: sandbox-hdp.hortonworks.com:6667/bootstrap: Connect to ipv4#172.18.0.2:6667 failed: Connection refused (after 0ms in state CONNECT, 30 identical error(s) suppressed)\n",
      "%3|1671616351.854|FAIL|rdkafka#producer-1| [thrd:sandbox-hdp.hortonworks.com:6667/bootstrap]: sandbox-hdp.hortonworks.com:6667/bootstrap: Connect to ipv4#172.18.0.2:6667 failed: Connection refused (after 0ms in state CONNECT, 30 identical error(s) suppressed)\n"
     ]
    },
    {
     "name": "stdout",
     "output_type": "stream",
     "text": [
      "Weather data collected at 21.12.2022 09:52!\n"
     ]
    },
    {
     "name": "stderr",
     "output_type": "stream",
     "text": [
      "%3|1671616381.888|FAIL|rdkafka#producer-1| [thrd:sandbox-hdp.hortonworks.com:6667/bootstrap]: sandbox-hdp.hortonworks.com:6667/bootstrap: Connect to ipv4#172.18.0.2:6667 failed: Connection refused (after 0ms in state CONNECT, 30 identical error(s) suppressed)\n",
      "%3|1671616411.945|FAIL|rdkafka#producer-1| [thrd:sandbox-hdp.hortonworks.com:6667/bootstrap]: sandbox-hdp.hortonworks.com:6667/bootstrap: Connect to ipv4#172.18.0.2:6667 failed: Connection refused (after 0ms in state CONNECT, 30 identical error(s) suppressed)\n"
     ]
    },
    {
     "name": "stdout",
     "output_type": "stream",
     "text": [
      "Message delivered to weather.forecast [0]\n",
      "Weather data collected at 21.12.2022 09:55!\n",
      "Message delivered to weather.forecast [0]\n",
      "Weather data collected at 21.12.2022 09:56!\n",
      "Message delivered to weather.forecast [0]\n",
      "Weather data collected at 21.12.2022 09:57!\n",
      "Message delivered to weather.forecast [0]\n",
      "Weather data collected at 21.12.2022 09:58!\n",
      "Message delivered to weather.forecast [0]\n",
      "Weather data collected at 21.12.2022 09:59!\n",
      "Message delivered to weather.forecast [0]\n",
      "Weather data collected at 21.12.2022 10:00!\n",
      "Message delivered to weather.forecast [0]\n",
      "Weather data collected at 21.12.2022 10:01!\n",
      "Message delivered to weather.forecast [0]\n",
      "Weather data collected at 21.12.2022 10:02!\n",
      "Message delivered to weather.forecast [0]\n",
      "Weather data collected at 21.12.2022 10:04!\n",
      "Message delivered to weather.forecast [0]\n",
      "Weather data collected at 21.12.2022 10:05!\n",
      "Message delivered to weather.forecast [0]\n",
      "Weather data collected at 21.12.2022 10:06!\n",
      "Message delivered to weather.forecast [0]\n",
      "Weather data collected at 21.12.2022 10:07!\n",
      "Message delivered to weather.forecast [0]\n",
      "Weather data collected at 21.12.2022 10:08!\n",
      "Message delivered to weather.forecast [0]\n",
      "Weather data collected at 21.12.2022 10:09!\n",
      "Message delivered to weather.forecast [0]\n",
      "Weather data collected at 21.12.2022 10:10!\n",
      "Message delivered to weather.forecast [0]\n",
      "Weather data collected at 21.12.2022 10:11!\n",
      "Message delivered to weather.forecast [0]\n",
      "Weather data collected at 21.12.2022 10:12!\n",
      "Message delivered to weather.forecast [0]\n",
      "Weather data collected at 21.12.2022 10:13!\n",
      "Message delivered to weather.forecast [0]\n",
      "Weather data collected at 21.12.2022 10:14!\n",
      "Message delivered to weather.forecast [0]\n",
      "Weather data collected at 21.12.2022 10:16!\n",
      "Message delivered to weather.forecast [0]\n",
      "Weather data collected at 21.12.2022 10:17!\n",
      "Message delivered to weather.forecast [0]\n",
      "Weather data collected at 21.12.2022 10:18!\n",
      "Message delivered to weather.forecast [0]\n",
      "Weather data collected at 21.12.2022 10:19!\n",
      "Message delivered to weather.forecast [0]\n",
      "Weather data collected at 21.12.2022 10:20!\n",
      "Message delivered to weather.forecast [0]\n",
      "Weather data collected at 21.12.2022 10:21!\n",
      "Message delivered to weather.forecast [0]\n",
      "Weather data collected at 21.12.2022 10:22!\n",
      "Message delivered to weather.forecast [0]\n",
      "Weather data collected at 21.12.2022 10:23!\n",
      "Message delivered to weather.forecast [0]\n",
      "Weather data collected at 21.12.2022 10:24!\n",
      "Message delivered to weather.forecast [0]\n"
     ]
    }
   ],
   "source": [
    "# collect new data every minute until service is stopped (KeyboardInterrupt)\n",
    "collect_forecast_data()"
   ]
  },
  {
   "cell_type": "code",
   "execution_count": null,
   "id": "043ee245-8c02-440f-abc6-e7d58c5a56ec",
   "metadata": {},
   "outputs": [],
   "source": []
  }
 ],
 "metadata": {
  "kernelspec": {
   "display_name": "Python 3 (ipykernel)",
   "language": "python",
   "name": "python3"
  },
  "language_info": {
   "codemirror_mode": {
    "name": "ipython",
    "version": 3
   },
   "file_extension": ".py",
   "mimetype": "text/x-python",
   "name": "python",
   "nbconvert_exporter": "python",
   "pygments_lexer": "ipython3",
   "version": "3.7.11"
  },
  "vscode": {
   "interpreter": {
    "hash": "af6a7de25dd7bd9a9e288da6c3d15d5d500c51449326063643a18fc796b35585"
   }
  }
 },
 "nbformat": 4,
 "nbformat_minor": 5
}
