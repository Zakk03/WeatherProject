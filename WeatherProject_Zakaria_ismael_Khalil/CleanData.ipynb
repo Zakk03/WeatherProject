{
 "cells": [
  {
   "cell_type": "markdown",
   "metadata": {},
   "source": [
    "# Data Deduplication Microservice"
   ]
  },
  {
   "cell_type": "markdown",
   "metadata": {},
   "source": [
    "## Imports"
   ]
  },
  {
   "cell_type": "code",
   "execution_count": 1,
   "metadata": {},
   "outputs": [],
   "source": [
    "# reload .py files on change:\n",
    "# https://ipython.readthedocs.io/en/stable/config/extensions/autoreload.html?highlight=autoreload\n",
    "%load_ext autoreload\n",
    "%autoreload 2\n",
    "\n",
    "import json\n",
    "import time\n",
    "import uuid\n",
    "from datetime import datetime\n",
    "import pandas as pd\n",
    "\n",
    "# import custom classes\n",
    "from Kafka import KafkaConfluentWriter, KafkaConfluentReader\n",
    "from OpenWeatherMap import OpenWeatherMap"
   ]
  },
  {
   "cell_type": "markdown",
   "metadata": {},
   "source": [
    "## Deduplication Logic\n",
    "The service needs to monitor new messages from data collection with buffering and sort out duplicates for forwarding to new cleaned topic."
   ]
  },
  {
   "cell_type": "code",
   "execution_count": 2,
   "metadata": {},
   "outputs": [
    {
     "name": "stderr",
     "output_type": "stream",
     "text": [
      "%3|1671616013.310|FAIL|rdkafka#producer-1| [thrd:sandbox-hdp.hortonworks.com:6667/bootstrap]: sandbox-hdp.hortonworks.com:6667/bootstrap: Connect to ipv4#172.18.0.2:6667 failed: Connection refused (after 0ms in state CONNECT)\n",
      "%3|1671616013.313|FAIL|cd495c8e3d2c4278bb9e3bf1a4bca6cc#consumer-2| [thrd:sandbox-hdp.hortonworks.com:6667/bootstrap]: sandbox-hdp.hortonworks.com:6667/bootstrap: Connect to ipv4#172.18.0.2:6667 failed: Connection refused (after 0ms in state CONNECT)\n",
      "%3|1671616013.315|FAIL|402168dbff8d45699e0b2c50b85ccc19#consumer-3| [thrd:sandbox-hdp.hortonworks.com:6667/bootstrap]: sandbox-hdp.hortonworks.com:6667/bootstrap: Connect to ipv4#172.18.0.2:6667 failed: Connection refused (after 0ms in state CONNECT)\n",
      "%3|1671616014.312|FAIL|cd495c8e3d2c4278bb9e3bf1a4bca6cc#consumer-2| [thrd:sandbox-hdp.hortonworks.com:6667/bootstrap]: sandbox-hdp.hortonworks.com:6667/bootstrap: Connect to ipv4#172.18.0.2:6667 failed: Connection refused (after 0ms in state CONNECT, 1 identical error(s) suppressed)\n",
      "%3|1671616014.313|FAIL|rdkafka#producer-1| [thrd:sandbox-hdp.hortonworks.com:6667/bootstrap]: sandbox-hdp.hortonworks.com:6667/bootstrap: Connect to ipv4#172.18.0.2:6667 failed: Connection refused (after 0ms in state CONNECT, 1 identical error(s) suppressed)\n",
      "%3|1671616014.315|FAIL|402168dbff8d45699e0b2c50b85ccc19#consumer-3| [thrd:sandbox-hdp.hortonworks.com:6667/bootstrap]: sandbox-hdp.hortonworks.com:6667/bootstrap: Connect to ipv4#172.18.0.2:6667 failed: Connection refused (after 0ms in state CONNECT, 1 identical error(s) suppressed)\n"
     ]
    }
   ],
   "source": [
    "kafkaConfluentWriter = KafkaConfluentWriter('weather.cleaned') # producer for cleaned topic\n",
    "kafkaConluentReaderForecast = KafkaConfluentReader('weather.forecast', True) # consumer for buffered topic\n",
    "kafkaConfluentReaderCleaned = KafkaConfluentReader('weather.cleaned', False) # consumer for cleaned topic\n",
    "\n",
    "# TASK 4: DEDUPLICATION in new topic\n",
    "# for each new message in the forecast topic check if it already exists in cleaned topic\n",
    "# and forward message to cleaned topic if it's in fact a new message with updated forecasts\n",
    "def clean_forecast_data() -> None:    \n",
    "    try:\n",
    "        print(\"Looking for new unique data ...\")\n",
    "\n",
    "        while True: # constantly consume new messages from buffered topic\n",
    "            msg = kafkaConluentReaderForecast.poll(1.0) # get message at offset from buffered topic\n",
    "            \n",
    "            if msg is not None: # if a new message is present check its content\n",
    "                lastCleaned = kafkaConfluentReaderCleaned.get_latest_message(1.0) # get latest message from cleaned topic\n",
    "                if lastCleaned is None: # cleaned topic is empty - add the new message\n",
    "                    kafkaConfluentWriter.produce(msg.key(), msg.value())\n",
    "                    print(\"Stored first data!\")\n",
    "                elif msg.value() != lastCleaned.value(): # new message is different than latest message - add the new message\n",
    "                    kafkaConfluentWriter.produce(msg.key(), msg.value())\n",
    "                    print(\"Stored new data!\")\n",
    "                else: # new message is not different - do nothing\n",
    "                    print(\"Nothing to do!\")\n",
    "\n",
    "    except KeyboardInterrupt: # stop service with KeyboardInterrupt\n",
    "        print(\"... search for new values stopped!\")"
   ]
  },
  {
   "cell_type": "markdown",
   "metadata": {},
   "source": [
    "## Run the Service"
   ]
  },
  {
   "cell_type": "code",
   "execution_count": 3,
   "metadata": {},
   "outputs": [
    {
     "name": "stdout",
     "output_type": "stream",
     "text": [
      "Looking for new unique data ...\n"
     ]
    },
    {
     "name": "stderr",
     "output_type": "stream",
     "text": [
      "%3|1671616044.335|FAIL|cd495c8e3d2c4278bb9e3bf1a4bca6cc#consumer-2| [thrd:sandbox-hdp.hortonworks.com:6667/bootstrap]: sandbox-hdp.hortonworks.com:6667/bootstrap: Connect to ipv4#172.18.0.2:6667 failed: Connection refused (after 0ms in state CONNECT, 30 identical error(s) suppressed)\n",
      "%3|1671616044.335|FAIL|402168dbff8d45699e0b2c50b85ccc19#consumer-3| [thrd:sandbox-hdp.hortonworks.com:6667/bootstrap]: sandbox-hdp.hortonworks.com:6667/bootstrap: Connect to ipv4#172.18.0.2:6667 failed: Connection refused (after 0ms in state CONNECT, 30 identical error(s) suppressed)\n",
      "%3|1671616044.340|FAIL|rdkafka#producer-1| [thrd:sandbox-hdp.hortonworks.com:6667/bootstrap]: sandbox-hdp.hortonworks.com:6667/bootstrap: Connect to ipv4#172.18.0.2:6667 failed: Connection refused (after 0ms in state CONNECT, 30 identical error(s) suppressed)\n",
      "%3|1671616074.356|FAIL|402168dbff8d45699e0b2c50b85ccc19#consumer-3| [thrd:sandbox-hdp.hortonworks.com:6667/bootstrap]: sandbox-hdp.hortonworks.com:6667/bootstrap: Connect to ipv4#172.18.0.2:6667 failed: Connection refused (after 0ms in state CONNECT, 30 identical error(s) suppressed)\n",
      "%3|1671616074.365|FAIL|rdkafka#producer-1| [thrd:sandbox-hdp.hortonworks.com:6667/bootstrap]: sandbox-hdp.hortonworks.com:6667/bootstrap: Connect to ipv4#172.18.0.2:6667 failed: Connection refused (after 0ms in state CONNECT, 30 identical error(s) suppressed)\n",
      "%3|1671616074.366|FAIL|cd495c8e3d2c4278bb9e3bf1a4bca6cc#consumer-2| [thrd:sandbox-hdp.hortonworks.com:6667/bootstrap]: sandbox-hdp.hortonworks.com:6667/bootstrap: Connect to ipv4#172.18.0.2:6667 failed: Connection refused (after 0ms in state CONNECT, 30 identical error(s) suppressed)\n",
      "%3|1671616104.367|FAIL|402168dbff8d45699e0b2c50b85ccc19#consumer-3| [thrd:sandbox-hdp.hortonworks.com:6667/bootstrap]: sandbox-hdp.hortonworks.com:6667/bootstrap: Connect to ipv4#172.18.0.2:6667 failed: Connection refused (after 0ms in state CONNECT, 30 identical error(s) suppressed)\n",
      "%3|1671616104.374|FAIL|cd495c8e3d2c4278bb9e3bf1a4bca6cc#consumer-2| [thrd:sandbox-hdp.hortonworks.com:6667/bootstrap]: sandbox-hdp.hortonworks.com:6667/bootstrap: Connect to ipv4#172.18.0.2:6667 failed: Connection refused (after 0ms in state CONNECT, 31 identical error(s) suppressed)\n",
      "%3|1671616105.361|FAIL|rdkafka#producer-1| [thrd:sandbox-hdp.hortonworks.com:6667/bootstrap]: sandbox-hdp.hortonworks.com:6667/bootstrap: Connect to ipv4#172.18.0.2:6667 failed: Connection refused (after 0ms in state CONNECT, 31 identical error(s) suppressed)\n",
      "%3|1671616134.418|FAIL|402168dbff8d45699e0b2c50b85ccc19#consumer-3| [thrd:sandbox-hdp.hortonworks.com:6667/bootstrap]: sandbox-hdp.hortonworks.com:6667/bootstrap: Connect to ipv4#172.18.0.2:6667 failed: Connection refused (after 1ms in state CONNECT, 30 identical error(s) suppressed)\n",
      "%3|1671616134.419|FAIL|cd495c8e3d2c4278bb9e3bf1a4bca6cc#consumer-2| [thrd:sandbox-hdp.hortonworks.com:6667/bootstrap]: sandbox-hdp.hortonworks.com:6667/bootstrap: Connect to ipv4#172.18.0.2:6667 failed: Connection refused (after 0ms in state CONNECT, 34 identical error(s) suppressed)\n",
      "%3|1671616135.424|FAIL|rdkafka#producer-1| [thrd:sandbox-hdp.hortonworks.com:6667/bootstrap]: sandbox-hdp.hortonworks.com:6667/bootstrap: Connect to ipv4#172.18.0.2:6667 failed: Connection refused (after 0ms in state CONNECT, 30 identical error(s) suppressed)\n",
      "%3|1671616164.513|FAIL|402168dbff8d45699e0b2c50b85ccc19#consumer-3| [thrd:sandbox-hdp.hortonworks.com:6667/bootstrap]: sandbox-hdp.hortonworks.com:6667/bootstrap: Connect to ipv4#172.18.0.2:6667 failed: Connection refused (after 0ms in state CONNECT, 30 identical error(s) suppressed)\n",
      "%3|1671616164.513|FAIL|cd495c8e3d2c4278bb9e3bf1a4bca6cc#consumer-2| [thrd:sandbox-hdp.hortonworks.com:6667/bootstrap]: sandbox-hdp.hortonworks.com:6667/bootstrap: Connect to ipv4#172.18.0.2:6667 failed: Connection refused (after 0ms in state CONNECT, 36 identical error(s) suppressed)\n",
      "%3|1671616165.528|FAIL|rdkafka#producer-1| [thrd:sandbox-hdp.hortonworks.com:6667/bootstrap]: sandbox-hdp.hortonworks.com:6667/bootstrap: Connect to ipv4#172.18.0.2:6667 failed: Connection refused (after 0ms in state CONNECT, 30 identical error(s) suppressed)\n",
      "%3|1671616194.523|FAIL|402168dbff8d45699e0b2c50b85ccc19#consumer-3| [thrd:sandbox-hdp.hortonworks.com:6667/bootstrap]: sandbox-hdp.hortonworks.com:6667/bootstrap: Connect to ipv4#172.18.0.2:6667 failed: Connection refused (after 0ms in state CONNECT, 30 identical error(s) suppressed)\n",
      "%3|1671616194.550|FAIL|cd495c8e3d2c4278bb9e3bf1a4bca6cc#consumer-2| [thrd:sandbox-hdp.hortonworks.com:6667/bootstrap]: sandbox-hdp.hortonworks.com:6667/bootstrap: Connect to ipv4#172.18.0.2:6667 failed: Connection refused (after 0ms in state CONNECT, 36 identical error(s) suppressed)\n",
      "%3|1671616195.545|FAIL|rdkafka#producer-1| [thrd:sandbox-hdp.hortonworks.com:6667/bootstrap]: sandbox-hdp.hortonworks.com:6667/bootstrap: Connect to ipv4#172.18.0.2:6667 failed: Connection refused (after 0ms in state CONNECT, 30 identical error(s) suppressed)\n",
      "%3|1671616224.541|FAIL|402168dbff8d45699e0b2c50b85ccc19#consumer-3| [thrd:sandbox-hdp.hortonworks.com:6667/bootstrap]: sandbox-hdp.hortonworks.com:6667/bootstrap: Connect to ipv4#172.18.0.2:6667 failed: Connection refused (after 0ms in state CONNECT, 30 identical error(s) suppressed)\n",
      "%3|1671616224.561|FAIL|cd495c8e3d2c4278bb9e3bf1a4bca6cc#consumer-2| [thrd:sandbox-hdp.hortonworks.com:6667/bootstrap]: sandbox-hdp.hortonworks.com:6667/bootstrap: Connect to ipv4#172.18.0.2:6667 failed: Connection refused (after 0ms in state CONNECT, 36 identical error(s) suppressed)\n",
      "%3|1671616225.548|FAIL|rdkafka#producer-1| [thrd:sandbox-hdp.hortonworks.com:6667/bootstrap]: sandbox-hdp.hortonworks.com:6667/bootstrap: Connect to ipv4#172.18.0.2:6667 failed: Connection refused (after 0ms in state CONNECT, 30 identical error(s) suppressed)\n",
      "%3|1671616255.535|FAIL|402168dbff8d45699e0b2c50b85ccc19#consumer-3| [thrd:sandbox-hdp.hortonworks.com:6667/bootstrap]: sandbox-hdp.hortonworks.com:6667/bootstrap: Connect to ipv4#172.18.0.2:6667 failed: Connection refused (after 0ms in state CONNECT, 31 identical error(s) suppressed)\n",
      "%3|1671616255.549|FAIL|rdkafka#producer-1| [thrd:sandbox-hdp.hortonworks.com:6667/bootstrap]: sandbox-hdp.hortonworks.com:6667/bootstrap: Connect to ipv4#172.18.0.2:6667 failed: Connection refused (after 0ms in state CONNECT, 30 identical error(s) suppressed)\n",
      "%3|1671616255.569|FAIL|cd495c8e3d2c4278bb9e3bf1a4bca6cc#consumer-2| [thrd:sandbox-hdp.hortonworks.com:6667/bootstrap]: sandbox-hdp.hortonworks.com:6667/bootstrap: Connect to ipv4#172.18.0.2:6667 failed: Connection refused (after 0ms in state CONNECT, 37 identical error(s) suppressed)\n",
      "%3|1671616285.564|FAIL|rdkafka#producer-1| [thrd:sandbox-hdp.hortonworks.com:6667/bootstrap]: sandbox-hdp.hortonworks.com:6667/bootstrap: Connect to ipv4#172.18.0.2:6667 failed: Connection refused (after 0ms in state CONNECT, 30 identical error(s) suppressed)\n",
      "%3|1671616285.564|FAIL|402168dbff8d45699e0b2c50b85ccc19#consumer-3| [thrd:sandbox-hdp.hortonworks.com:6667/bootstrap]: sandbox-hdp.hortonworks.com:6667/bootstrap: Connect to ipv4#172.18.0.2:6667 failed: Connection refused (after 0ms in state CONNECT, 30 identical error(s) suppressed)\n",
      "%3|1671616285.589|FAIL|cd495c8e3d2c4278bb9e3bf1a4bca6cc#consumer-2| [thrd:sandbox-hdp.hortonworks.com:6667/bootstrap]: sandbox-hdp.hortonworks.com:6667/bootstrap: Connect to ipv4#172.18.0.2:6667 failed: Connection refused (after 0ms in state CONNECT, 36 identical error(s) suppressed)\n",
      "%3|1671616315.576|FAIL|rdkafka#producer-1| [thrd:sandbox-hdp.hortonworks.com:6667/bootstrap]: sandbox-hdp.hortonworks.com:6667/bootstrap: Connect to ipv4#172.18.0.2:6667 failed: Connection refused (after 0ms in state CONNECT, 31 identical error(s) suppressed)\n",
      "%3|1671616315.576|FAIL|402168dbff8d45699e0b2c50b85ccc19#consumer-3| [thrd:sandbox-hdp.hortonworks.com:6667/bootstrap]: sandbox-hdp.hortonworks.com:6667/bootstrap: Connect to ipv4#172.18.0.2:6667 failed: Connection refused (after 0ms in state CONNECT, 31 identical error(s) suppressed)\n",
      "%3|1671616315.597|FAIL|cd495c8e3d2c4278bb9e3bf1a4bca6cc#consumer-2| [thrd:sandbox-hdp.hortonworks.com:6667/bootstrap]: sandbox-hdp.hortonworks.com:6667/bootstrap: Connect to ipv4#172.18.0.2:6667 failed: Connection refused (after 0ms in state CONNECT, 37 identical error(s) suppressed)\n",
      "%3|1671616345.611|FAIL|cd495c8e3d2c4278bb9e3bf1a4bca6cc#consumer-2| [thrd:sandbox-hdp.hortonworks.com:6667/bootstrap]: sandbox-hdp.hortonworks.com:6667/bootstrap: Connect to ipv4#172.18.0.2:6667 failed: Connection refused (after 0ms in state CONNECT, 36 identical error(s) suppressed)\n",
      "%3|1671616345.612|FAIL|rdkafka#producer-1| [thrd:sandbox-hdp.hortonworks.com:6667/bootstrap]: sandbox-hdp.hortonworks.com:6667/bootstrap: Connect to ipv4#172.18.0.2:6667 failed: Connection refused (after 0ms in state CONNECT, 30 identical error(s) suppressed)\n",
      "%3|1671616345.613|FAIL|402168dbff8d45699e0b2c50b85ccc19#consumer-3| [thrd:sandbox-hdp.hortonworks.com:6667/bootstrap]: sandbox-hdp.hortonworks.com:6667/bootstrap: Connect to ipv4#172.18.0.2:6667 failed: Connection refused (after 0ms in state CONNECT, 30 identical error(s) suppressed)\n",
      "%3|1671616375.650|FAIL|rdkafka#producer-1| [thrd:sandbox-hdp.hortonworks.com:6667/bootstrap]: sandbox-hdp.hortonworks.com:6667/bootstrap: Connect to ipv4#172.18.0.2:6667 failed: Connection refused (after 0ms in state CONNECT, 30 identical error(s) suppressed)\n",
      "%3|1671616375.650|FAIL|cd495c8e3d2c4278bb9e3bf1a4bca6cc#consumer-2| [thrd:sandbox-hdp.hortonworks.com:6667/bootstrap]: sandbox-hdp.hortonworks.com:6667/bootstrap: Connect to ipv4#172.18.0.2:6667 failed: Connection refused (after 0ms in state CONNECT, 36 identical error(s) suppressed)\n",
      "%3|1671616375.661|FAIL|402168dbff8d45699e0b2c50b85ccc19#consumer-3| [thrd:sandbox-hdp.hortonworks.com:6667/bootstrap]: sandbox-hdp.hortonworks.com:6667/bootstrap: Connect to ipv4#172.18.0.2:6667 failed: Connection refused (after 0ms in state CONNECT, 30 identical error(s) suppressed)\n",
      "%3|1671616405.669|FAIL|rdkafka#producer-1| [thrd:sandbox-hdp.hortonworks.com:6667/bootstrap]: sandbox-hdp.hortonworks.com:6667/bootstrap: Connect to ipv4#172.18.0.2:6667 failed: Connection refused (after 0ms in state CONNECT, 30 identical error(s) suppressed)\n",
      "%3|1671616405.669|FAIL|cd495c8e3d2c4278bb9e3bf1a4bca6cc#consumer-2| [thrd:sandbox-hdp.hortonworks.com:6667/bootstrap]: sandbox-hdp.hortonworks.com:6667/bootstrap: Connect to ipv4#172.18.0.2:6667 failed: Connection refused (after 0ms in state CONNECT, 36 identical error(s) suppressed)\n",
      "%3|1671616405.670|FAIL|402168dbff8d45699e0b2c50b85ccc19#consumer-3| [thrd:sandbox-hdp.hortonworks.com:6667/bootstrap]: sandbox-hdp.hortonworks.com:6667/bootstrap: Connect to ipv4#172.18.0.2:6667 failed: Connection refused (after 0ms in state CONNECT, 30 identical error(s) suppressed)\n",
      "%3|1671616435.718|FAIL|rdkafka#producer-1| [thrd:sandbox-hdp.hortonworks.com:6667/bootstrap]: sandbox-hdp.hortonworks.com:6667/bootstrap: Connect to ipv4#172.18.0.2:6667 failed: Connection refused (after 0ms in state CONNECT, 30 identical error(s) suppressed)\n",
      "%3|1671616435.735|FAIL|402168dbff8d45699e0b2c50b85ccc19#consumer-3| [thrd:sandbox-hdp.hortonworks.com:6667/bootstrap]: sandbox-hdp.hortonworks.com:6667/bootstrap: Connect to ipv4#172.18.0.2:6667 failed: Connection refused (after 0ms in state CONNECT, 30 identical error(s) suppressed)\n",
      "%3|1671616435.736|FAIL|cd495c8e3d2c4278bb9e3bf1a4bca6cc#consumer-2| [thrd:sandbox-hdp.hortonworks.com:6667/bootstrap]: sandbox-hdp.hortonworks.com:6667/bootstrap: Connect to ipv4#172.18.0.2:6667 failed: Connection refused (after 0ms in state CONNECT, 36 identical error(s) suppressed)\n"
     ]
    },
    {
     "ename": "ConsumeError",
     "evalue": "KafkaError{code=NOT_COORDINATOR,val=16,str=\"Failed to fetch committed offsets for 0 partition(s) in group \"f15ae444f65f42a095d033e68a64ff3a\": Broker: Not coordinator\"}",
     "output_type": "error",
     "traceback": [
      "\u001b[0;31m---------------------------------------------------------------------------\u001b[0m",
      "\u001b[0;31mConsumeError\u001b[0m                              Traceback (most recent call last)",
      "\u001b[0;32m/tmp/ipykernel_1651/3766397200.py\u001b[0m in \u001b[0;36m<module>\u001b[0;34m\u001b[0m\n\u001b[1;32m      1\u001b[0m \u001b[0;31m# forward messages with actual updated forecasts to new topic until service is stopped (KeyboardInterrupt)\u001b[0m\u001b[0;34m\u001b[0m\u001b[0;34m\u001b[0m\u001b[0;34m\u001b[0m\u001b[0m\n\u001b[0;32m----> 2\u001b[0;31m \u001b[0mclean_forecast_data\u001b[0m\u001b[0;34m(\u001b[0m\u001b[0;34m)\u001b[0m\u001b[0;34m\u001b[0m\u001b[0;34m\u001b[0m\u001b[0m\n\u001b[0m",
      "\u001b[0;32m/tmp/ipykernel_1651/3152140585.py\u001b[0m in \u001b[0;36mclean_forecast_data\u001b[0;34m()\u001b[0m\n\u001b[1;32m     11\u001b[0m \u001b[0;34m\u001b[0m\u001b[0m\n\u001b[1;32m     12\u001b[0m         \u001b[0;32mwhile\u001b[0m \u001b[0;32mTrue\u001b[0m\u001b[0;34m:\u001b[0m \u001b[0;31m# constantly consume new messages from buffered topic\u001b[0m\u001b[0;34m\u001b[0m\u001b[0;34m\u001b[0m\u001b[0m\n\u001b[0;32m---> 13\u001b[0;31m             \u001b[0mmsg\u001b[0m \u001b[0;34m=\u001b[0m \u001b[0mkafkaConluentReaderForecast\u001b[0m\u001b[0;34m.\u001b[0m\u001b[0mpoll\u001b[0m\u001b[0;34m(\u001b[0m\u001b[0;36m1.0\u001b[0m\u001b[0;34m)\u001b[0m \u001b[0;31m# get message at offset from buffered topic\u001b[0m\u001b[0;34m\u001b[0m\u001b[0;34m\u001b[0m\u001b[0m\n\u001b[0m\u001b[1;32m     14\u001b[0m \u001b[0;34m\u001b[0m\u001b[0m\n\u001b[1;32m     15\u001b[0m             \u001b[0;32mif\u001b[0m \u001b[0mmsg\u001b[0m \u001b[0;32mis\u001b[0m \u001b[0;32mnot\u001b[0m \u001b[0;32mNone\u001b[0m\u001b[0;34m:\u001b[0m \u001b[0;31m# if a new message is present check its content\u001b[0m\u001b[0;34m\u001b[0m\u001b[0;34m\u001b[0m\u001b[0m\n",
      "\u001b[0;32m~/kafka-weather-map/Kafka.py\u001b[0m in \u001b[0;36mpoll\u001b[0;34m(self, ms)\u001b[0m\n\u001b[1;32m     78\u001b[0m     \u001b[0;31m# poll messages\u001b[0m\u001b[0;34m\u001b[0m\u001b[0;34m\u001b[0m\u001b[0;34m\u001b[0m\u001b[0m\n\u001b[1;32m     79\u001b[0m     \u001b[0;32mdef\u001b[0m \u001b[0mpoll\u001b[0m\u001b[0;34m(\u001b[0m\u001b[0mself\u001b[0m\u001b[0;34m,\u001b[0m \u001b[0mms\u001b[0m\u001b[0;34m:\u001b[0m \u001b[0mfloat\u001b[0m\u001b[0;34m)\u001b[0m \u001b[0;34m->\u001b[0m \u001b[0mobject\u001b[0m\u001b[0;34m:\u001b[0m\u001b[0;34m\u001b[0m\u001b[0;34m\u001b[0m\u001b[0m\n\u001b[0;32m---> 80\u001b[0;31m         \u001b[0;32mreturn\u001b[0m \u001b[0mself\u001b[0m\u001b[0;34m.\u001b[0m\u001b[0mconsumer\u001b[0m\u001b[0;34m.\u001b[0m\u001b[0mpoll\u001b[0m\u001b[0;34m(\u001b[0m\u001b[0mms\u001b[0m\u001b[0;34m)\u001b[0m\u001b[0;34m\u001b[0m\u001b[0;34m\u001b[0m\u001b[0m\n\u001b[0m\u001b[1;32m     81\u001b[0m \u001b[0;34m\u001b[0m\u001b[0m\n\u001b[1;32m     82\u001b[0m     \u001b[0;31m# get the most recent message, no matter where the actual offset would be\u001b[0m\u001b[0;34m\u001b[0m\u001b[0;34m\u001b[0m\u001b[0;34m\u001b[0m\u001b[0m\n",
      "\u001b[0;32m~/.local/lib/python3.7/site-packages/confluent_kafka/deserializing_consumer.py\u001b[0m in \u001b[0;36mpoll\u001b[0;34m(self, timeout)\u001b[0m\n\u001b[1;32m    129\u001b[0m \u001b[0;34m\u001b[0m\u001b[0m\n\u001b[1;32m    130\u001b[0m         \u001b[0;32mif\u001b[0m \u001b[0mmsg\u001b[0m\u001b[0;34m.\u001b[0m\u001b[0merror\u001b[0m\u001b[0;34m(\u001b[0m\u001b[0;34m)\u001b[0m \u001b[0;32mis\u001b[0m \u001b[0;32mnot\u001b[0m \u001b[0;32mNone\u001b[0m\u001b[0;34m:\u001b[0m\u001b[0;34m\u001b[0m\u001b[0;34m\u001b[0m\u001b[0m\n\u001b[0;32m--> 131\u001b[0;31m             \u001b[0;32mraise\u001b[0m \u001b[0mConsumeError\u001b[0m\u001b[0;34m(\u001b[0m\u001b[0mmsg\u001b[0m\u001b[0;34m.\u001b[0m\u001b[0merror\u001b[0m\u001b[0;34m(\u001b[0m\u001b[0;34m)\u001b[0m\u001b[0;34m,\u001b[0m \u001b[0mkafka_message\u001b[0m\u001b[0;34m=\u001b[0m\u001b[0mmsg\u001b[0m\u001b[0;34m)\u001b[0m\u001b[0;34m\u001b[0m\u001b[0;34m\u001b[0m\u001b[0m\n\u001b[0m\u001b[1;32m    132\u001b[0m \u001b[0;34m\u001b[0m\u001b[0m\n\u001b[1;32m    133\u001b[0m         \u001b[0mctx\u001b[0m \u001b[0;34m=\u001b[0m \u001b[0mSerializationContext\u001b[0m\u001b[0;34m(\u001b[0m\u001b[0mmsg\u001b[0m\u001b[0;34m.\u001b[0m\u001b[0mtopic\u001b[0m\u001b[0;34m(\u001b[0m\u001b[0;34m)\u001b[0m\u001b[0;34m,\u001b[0m \u001b[0mMessageField\u001b[0m\u001b[0;34m.\u001b[0m\u001b[0mVALUE\u001b[0m\u001b[0;34m,\u001b[0m \u001b[0mmsg\u001b[0m\u001b[0;34m.\u001b[0m\u001b[0mheaders\u001b[0m\u001b[0;34m(\u001b[0m\u001b[0;34m)\u001b[0m\u001b[0;34m)\u001b[0m\u001b[0;34m\u001b[0m\u001b[0;34m\u001b[0m\u001b[0m\n",
      "\u001b[0;31mConsumeError\u001b[0m: KafkaError{code=NOT_COORDINATOR,val=16,str=\"Failed to fetch committed offsets for 0 partition(s) in group \"f15ae444f65f42a095d033e68a64ff3a\": Broker: Not coordinator\"}"
     ]
    }
   ],
   "source": [
    "# forward messages with actual updated forecasts to new topic until service is stopped (KeyboardInterrupt)\n",
    "clean_forecast_data()"
   ]
  },
  {
   "cell_type": "code",
   "execution_count": null,
   "metadata": {},
   "outputs": [],
   "source": []
  }
 ],
 "metadata": {
  "kernelspec": {
   "display_name": "Python 3 (ipykernel)",
   "language": "python",
   "name": "python3"
  },
  "language_info": {
   "codemirror_mode": {
    "name": "ipython",
    "version": 3
   },
   "file_extension": ".py",
   "mimetype": "text/x-python",
   "name": "python",
   "nbconvert_exporter": "python",
   "pygments_lexer": "ipython3",
   "version": "3.7.11"
  },
  "vscode": {
   "interpreter": {
    "hash": "af6a7de25dd7bd9a9e288da6c3d15d5d500c51449326063643a18fc796b35585"
   }
  }
 },
 "nbformat": 4,
 "nbformat_minor": 4
}
